{
 "cells": [
  {
   "cell_type": "code",
   "execution_count": 1,
   "metadata": {
    "collapsed": true
   },
   "outputs": [
    {
     "data": {
      "text/plain": "'\\nEasiest way to take the dataset, divide the images into two folders, dogs and cats\\n'"
     },
     "execution_count": 1,
     "metadata": {},
     "output_type": "execute_result"
    }
   ],
   "source": [
    "\"\"\"\n",
    "Easiest way to take the dataset, divide the images into two folders, dogs and cats\n",
    "The original dataset gives all the files in the train folder, 12500 per class:\n",
    "    data/train/cat.1.jpg\n",
    "    data/train/cat.2.jpg\n",
    "        .......\n",
    "    data/train/cat.12500.jpg\n",
    "    data/train/dog.1.jpg\n",
    "    data/train/dog.2.jpg\n",
    "        .......\n",
    "    data/train/dog.12500.jpg\n",
    "\n",
    "Dividing each class in one folder is easier to shuflle train and val datasets and load with tensorflow datagen:\n",
    "    data/train\n",
    "            /cats\n",
    "                /cat.1.jpg\n",
    "                    .......\n",
    "                /cat.12500.jpg\n",
    "            /dog\n",
    "                /dog.1.jpg\n",
    "                    ......\n",
    "                /dog.12500.jpg\n",
    "\n",
    "\"\"\""
   ]
  },
  {
   "cell_type": "code",
   "execution_count": 31,
   "outputs": [],
   "source": [
    "import glob\n",
    "import shutil"
   ],
   "metadata": {
    "collapsed": false
   }
  },
  {
   "cell_type": "code",
   "execution_count": null,
   "outputs": [],
   "source": [],
   "metadata": {
    "collapsed": false
   }
  },
  {
   "cell_type": "code",
   "execution_count": 48,
   "outputs": [
    {
     "name": "stdout",
     "output_type": "stream",
     "text": [
      "Array Imagen Length: 25000\n",
      "['../data/train/cat.0.jpg', '../data/train/cat.1.jpg', '../data/train/cat.10.jpg', '../data/train/cat.100.jpg', '../data/train/cat.1000.jpg', '../data/train/cat.10000.jpg', '../data/train/cat.10001.jpg', '../data/train/cat.10002.jpg', '../data/train/cat.10003.jpg', '../data/train/cat.10004.jpg']\n"
     ]
    }
   ],
   "source": [
    "# Train\n",
    "path = '../data/train/'\n",
    "dogs_path = path + 'dogs/'\n",
    "cats_path = path + 'cats/'\n",
    "!mkdir dogs_path\n",
    "!mkdir cats_path\n",
    "list_images = glob.glob(path + '*.jpg')\n",
    "print(f\"Array Imagen Length: {len(list_images)}\")\n",
    "list_images.sort()\n",
    "\n",
    "for item in list_images:\n",
    "    if \"dog.\" in item:\n",
    "        shutil.move(item,dogs_path + item.split('/')[-1])\n",
    "    else:\n",
    "        shutil.move(item,cats_path + item.split('/')[-1])\n",
    "\n",
    "path = '../data/test/'\n",
    "dogs_path = path + 'dogs/'\n",
    "cats_path = path + 'cats/'\n",
    "!mkdir dogs_path\n",
    "!mkdir cats_path\n",
    "list_images = glob.glob(path + '*.jpg')\n",
    "print(f\"Array Imagen Length: {len(list_images)}\")\n",
    "list_images.sort()\n",
    "\n",
    "for item in list_images:\n",
    "    if \"dog.\" in item:\n",
    "        shutil.move(item,dogs_path + item.split('/')[-1])\n",
    "    else:\n",
    "        shutil.move(item,cats_path + item.split('/')[-1])"
   ],
   "metadata": {
    "collapsed": false
   }
  },
  {
   "cell_type": "code",
   "execution_count": 49,
   "outputs": [],
   "source": [],
   "metadata": {
    "collapsed": false
   }
  }
 ],
 "metadata": {
  "kernelspec": {
   "display_name": "Python 3",
   "language": "python",
   "name": "python3"
  },
  "language_info": {
   "codemirror_mode": {
    "name": "ipython",
    "version": 2
   },
   "file_extension": ".py",
   "mimetype": "text/x-python",
   "name": "python",
   "nbconvert_exporter": "python",
   "pygments_lexer": "ipython2",
   "version": "2.7.6"
  }
 },
 "nbformat": 4,
 "nbformat_minor": 0
}
